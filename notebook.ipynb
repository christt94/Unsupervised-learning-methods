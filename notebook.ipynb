{
 "cells": [
  {
   "cell_type": "markdown",
   "id": "0ca1aa33",
   "metadata": {},
   "source": [
    "# Implementing unsupervised learning methods"
   ]
  },
  {
   "cell_type": "markdown",
   "id": "4ef94b9f",
   "metadata": {},
   "source": [
    "## Step 1: Setting up the environment: "
   ]
  },
  {
   "cell_type": "markdown",
   "id": "2c9e9be7",
   "metadata": {},
   "source": [
    "**Ensure that you have the necessary libraries installed before starting the activity. You will need pandas, Scikit-learn, and Matplotlib for this exercise. You can install the required packages using the following command**"
   ]
  },
  {
   "cell_type": "code",
   "execution_count": null,
   "id": "8f53f06a",
   "metadata": {},
   "outputs": [],
   "source": [
    "# pip install pandas scikit-learn matplotlib"
   ]
  },
  {
   "cell_type": "markdown",
   "id": "2e956960",
   "metadata": {},
   "source": [
    "## Step 2: Importing required libraries"
   ]
  },
  {
   "cell_type": "code",
   "execution_count": 1,
   "id": "04bc72fc",
   "metadata": {},
   "outputs": [],
   "source": [
    "import pandas as pd\n",
    "import matplotlib.pyplot as plt\n",
    "from sklearn.cluster import KMeans, DBSCAN\n",
    "from sklearn.decomposition import PCA\n",
    "from sklearn.preprocessing import StandardScaler"
   ]
  },
  {
   "cell_type": "markdown",
   "id": "21662c38",
   "metadata": {},
   "source": [
    "## Step 3: Loading the dataset"
   ]
  },
  {
   "cell_type": "markdown",
   "id": "ad8e1463",
   "metadata": {},
   "source": [
    "**We will use a sample dataset that contains customer data, including Annual Income, Spending Score, and Age. Load the dataset into a pandas DataFrame:**"
   ]
  },
  {
   "cell_type": "code",
   "execution_count": 2,
   "id": "28221c17",
   "metadata": {},
   "outputs": [
    {
     "name": "stdout",
     "output_type": "stream",
     "text": [
      "   AnnualIncome  SpendingScore  Age\n",
      "0            15             39   20\n",
      "1            16             81   22\n",
      "2            17              6   25\n",
      "3            18             77   24\n",
      "4            19             40   35\n"
     ]
    }
   ],
   "source": [
    "# Sample dataset: Customer annual income, spending score, and age\n",
    "data = {'AnnualIncome': [15, 16, 17, 18, 19, 20, 22, 25, 30, 35],\n",
    "        'SpendingScore': [39, 81, 6, 77, 40, 76, 94, 5, 82, 56],\n",
    "        'Age': [20, 22, 25, 24, 35, 40, 30, 21, 50, 31]}\n",
    "\n",
    "df = pd.DataFrame(data)\n",
    "\n",
    "# Display the first few rows of the dataset\n",
    "print(df.head())"
   ]
  },
  {
   "cell_type": "markdown",
   "id": "526f5d06",
   "metadata": {},
   "source": [
    "## Step 4: Preprocessing the data"
   ]
  },
  {
   "cell_type": "markdown",
   "id": "45139235",
   "metadata": {},
   "source": [
    "**Before applying unsupervised learning methods, you need to normalize the data. Use StandardScaler to scale the features so that they all have the same scale, which is important for algorithms such as k-means and PCA:**"
   ]
  },
  {
   "cell_type": "code",
   "execution_count": 3,
   "id": "6d49c7e1",
   "metadata": {},
   "outputs": [
    {
     "name": "stdout",
     "output_type": "stream",
     "text": [
      "   AnnualIncome  SpendingScore       Age\n",
      "0     -1.086741      -0.546384 -1.074654\n",
      "1     -0.924540       0.836033 -0.855337\n",
      "2     -0.762340      -1.632569 -0.526361\n",
      "3     -0.600140       0.704374 -0.636020\n",
      "4     -0.437940      -0.513469  0.570225\n"
     ]
    }
   ],
   "source": [
    "# Normalize the dataset using StandardScaler\n",
    "scaler = StandardScaler()\n",
    "df_scaled = scaler.fit_transform(df)\n",
    "\n",
    "# Convert the scaled data back into a DataFrame\n",
    "df_scaled = pd.DataFrame(df_scaled, columns=['AnnualIncome', 'SpendingScore', 'Age'])\n",
    "print(df_scaled.head())"
   ]
  },
  {
   "cell_type": "markdown",
   "id": "6831085f",
   "metadata": {},
   "source": [
    "## Step 5: Task 1: Apply k-means clustering"
   ]
  },
  {
   "cell_type": "markdown",
   "id": "a0fcb201",
   "metadata": {},
   "source": [
    "**For this task, you will apply k-means clustering to group the customers into k = 3 clusters based on their income, spending score, and age. k-means partitions the data into k clusters by minimizing the distance between data points and the cluster centroids.**"
   ]
  },
  {
   "cell_type": "code",
   "execution_count": 4,
   "id": "99135095",
   "metadata": {},
   "outputs": [
    {
     "name": "stdout",
     "output_type": "stream",
     "text": [
      "   AnnualIncome  SpendingScore       Age  KMeans_Cluster\n",
      "0     -1.086741      -0.546384 -1.074654               2\n",
      "1     -0.924540       0.836033 -0.855337               0\n",
      "2     -0.762340      -1.632569 -0.526361               2\n",
      "3     -0.600140       0.704374 -0.636020               0\n",
      "4     -0.437940      -0.513469  0.570225               2\n"
     ]
    }
   ],
   "source": [
    "from sklearn.cluster import KMeans\n",
    "\n",
    "# Apply K-Means clustering with k=3\n",
    "kmeans = KMeans(n_clusters=3, random_state=42)\n",
    "df_scaled['KMeans_Cluster'] = kmeans.fit_predict(df_scaled)\n",
    "\n",
    "# Display the cluster assignments\n",
    "print(df_scaled.head())"
   ]
  },
  {
   "cell_type": "markdown",
   "id": "e8f33d08",
   "metadata": {},
   "source": [
    "## Step 6: Task 2: Apply DBSCAN clustering"
   ]
  },
  {
   "cell_type": "markdown",
   "id": "7ceb43cf",
   "metadata": {},
   "source": [
    "**Next, apply DBSCAN, a density-based clustering algorithm that identifies clusters based on the density of data points. This method is useful for detecting irregularly shaped clusters and outliers. You will experiment with eps (the maximum distance between two points to be considered neighbors) and min_samples (the minimum number of points required to form a dense cluster).**"
   ]
  },
  {
   "cell_type": "code",
   "execution_count": 5,
   "id": "fb197d31",
   "metadata": {},
   "outputs": [
    {
     "name": "stdout",
     "output_type": "stream",
     "text": [
      "   AnnualIncome  SpendingScore       Age  KMeans_Cluster  DBSCAN_Cluster\n",
      "0     -1.086741      -0.546384 -1.074654               2              -1\n",
      "1     -0.924540       0.836033 -0.855337               0               0\n",
      "2     -0.762340      -1.632569 -0.526361               2              -1\n",
      "3     -0.600140       0.704374 -0.636020               0               0\n",
      "4     -0.437940      -0.513469  0.570225               2              -1\n"
     ]
    }
   ],
   "source": [
    "from sklearn.cluster import DBSCAN\n",
    "\n",
    "# Apply DBSCAN with predefined parameters\n",
    "dbscan = DBSCAN(eps=0.5, min_samples=2)\n",
    "df_scaled['DBSCAN_Cluster'] = dbscan.fit_predict(df_scaled)\n",
    "\n",
    "# Display the cluster assignments and noise (-1)\n",
    "print(df_scaled.head())"
   ]
  },
  {
   "cell_type": "markdown",
   "id": "e2357fcf",
   "metadata": {},
   "source": [
    "**DBSCAN_Cluster will contain the cluster assignments, and any points labeled –1 represent outliers or noise that DBSCAN identified as not belonging to any cluster.**"
   ]
  },
  {
   "cell_type": "markdown",
   "id": "93232bd2",
   "metadata": {},
   "source": [
    "## Step 7: Task 3: Apply PCA"
   ]
  },
  {
   "cell_type": "markdown",
   "id": "4e27a4a6",
   "metadata": {},
   "source": [
    "**For dimensionality reduction, apply PCA to reduce the number of features from three to two, while retaining as much variance in the data as possible. PCA helps simplify the dataset and allows for easier visualization of clusters.**"
   ]
  },
  {
   "cell_type": "code",
   "execution_count": 6,
   "id": "57e10009",
   "metadata": {},
   "outputs": [
    {
     "name": "stdout",
     "output_type": "stream",
     "text": [
      "       PCA1      PCA2\n",
      "0 -1.724130 -0.546765\n",
      "1  0.346258 -1.906578\n",
      "2 -2.043948  0.270090\n",
      "3  0.471989 -1.549545\n",
      "4 -0.678157  0.614647\n"
     ]
    }
   ],
   "source": [
    "from sklearn.decomposition import PCA\n",
    "\n",
    "# Apply PCA to reduce dimensions from 3 to 2\n",
    "pca = PCA(n_components=2)\n",
    "df_pca = pca.fit_transform(df_scaled)\n",
    "\n",
    "# Convert the PCA result back to a DataFrame for easy handling\n",
    "df_pca = pd.DataFrame(df_pca, columns=['PCA1', 'PCA2'])\n",
    "print(df_pca.head())"
   ]
  },
  {
   "cell_type": "markdown",
   "id": "6c6e98f9",
   "metadata": {},
   "source": [
    "## Step 8: Visualizing the results"
   ]
  },
  {
   "cell_type": "markdown",
   "id": "88d5c7df",
   "metadata": {},
   "source": [
    "### Visualize k-means clusters:"
   ]
  },
  {
   "cell_type": "markdown",
   "id": "17b10c4c",
   "metadata": {},
   "source": [
    "**To visualize the clusters formed by k-means, create a scatterplot of Annual Income and Spending Score, with each point colored according to its cluster assignment.**"
   ]
  },
  {
   "cell_type": "code",
   "execution_count": 7,
   "id": "babed94d",
   "metadata": {},
   "outputs": [
    {
     "data": {
      "image/png": "[encoded data removed]",
      "text/plain": [
       "<Figure size 640x480 with 1 Axes>"
      ]
     },
     "metadata": {},
     "output_type": "display_data"
    }
   ],
   "source": [
    "# Plot K-Means clusters\n",
    "plt.scatter(df_scaled['AnnualIncome'], df_scaled['SpendingScore'], c=df_scaled['KMeans_Cluster'], cmap='viridis')\n",
    "plt.title('K-Means Clustering of Customers')\n",
    "plt.xlabel('Annual Income (in thousands)')\n",
    "plt.ylabel('Spending Score (1-100)')\n",
    "plt.show()"
   ]
  },
  {
   "cell_type": "markdown",
   "id": "148d34ca",
   "metadata": {},
   "source": [
    "### Visualize DBSCAN clusters:"
   ]
  },
  {
   "cell_type": "markdown",
   "id": "d960d503",
   "metadata": {},
   "source": [
    "**Similarly, visualize the clusters and outliers detected by DBSCAN.**"
   ]
  },
  {
   "cell_type": "code",
   "execution_count": 8,
   "id": "b40330b5",
   "metadata": {},
   "outputs": [
    {
     "data": {
      "image/png": "[encoded data removed]",
      "text/plain": [
       "<Figure size 640x480 with 1 Axes>"
      ]
     },
     "metadata": {},
     "output_type": "display_data"
    }
   ],
   "source": [
    "# Plot DBSCAN clusters\n",
    "plt.scatter(df_scaled['AnnualIncome'], df_scaled['SpendingScore'], c=df_scaled['DBSCAN_Cluster'], cmap='rainbow')\n",
    "plt.title('DBSCAN Clustering of Customers')\n",
    "plt.xlabel('Annual Income (in thousands)')\n",
    "plt.ylabel('Spending Score (1-100)')\n",
    "plt.show()"
   ]
  },
  {
   "cell_type": "markdown",
   "id": "b67e1a9a",
   "metadata": {},
   "source": [
    "### Visualize PCA results:"
   ]
  },
  {
   "cell_type": "markdown",
   "id": "d4fb9a0e",
   "metadata": {},
   "source": [
    "**Finally, create a scatterplot to visualize the two principal components obtained from PCA.**"
   ]
  },
  {
   "cell_type": "code",
   "execution_count": 9,
   "id": "ea971c28",
   "metadata": {},
   "outputs": [
    {
     "data": {
      "image/png": "[encoded data removed]",
      "text/plain": [
       "<Figure size 640x480 with 1 Axes>"
      ]
     },
     "metadata": {},
     "output_type": "display_data"
    }
   ],
   "source": [
    "# Plot PCA components\n",
    "plt.scatter(df_pca['PCA1'], df_pca['PCA2'], c=df_scaled['KMeans_Cluster'], cmap='viridis')\n",
    "plt.title('PCA - Dimensionality Reduction with K-Means Clusters')\n",
    "plt.xlabel('PCA1')\n",
    "plt.ylabel('PCA2')\n",
    "plt.show()"
   ]
  },
  {
   "cell_type": "markdown",
   "id": "bb4e7d53",
   "metadata": {},
   "source": [
    "## Step 9: Interpreting the results"
   ]
  },
  {
   "cell_type": "markdown",
   "id": "0cab35db",
   "metadata": {},
   "source": [
    "**Now that you've visualized the results of each method, answer the following questions to interpret your findings:**\n",
    "\n",
    "How well did k-means and DBSCAN cluster the data? Were there any significant differences in how they grouped customers?\n",
    "\n",
    "Did DBSCAN identify any outliers? How does this impact the clustering results?\n",
    "\n",
    "How did PCA help simplify the dataset? Did the principal components retain most of the variance?\n",
    "\n",
    "Compare the cluster structures between the original feature space and the two-dimensional space produced by PCA. Do the clusters look similar?"
   ]
  }
 ],
 "metadata": {
  "kernelspec": {
   "display_name": "unsupervised",
   "language": "python",
   "name": "python3"
  },
  "language_info": {
   "codemirror_mode": {
    "name": "ipython",
    "version": 3
   },
   "file_extension": ".py",
   "mimetype": "text/x-python",
   "name": "python",
   "nbconvert_exporter": "python",
   "pygments_lexer": "ipython3",
   "version": "3.13.5"
  }
 },
 "nbformat": 4,
 "nbformat_minor": 5
}
